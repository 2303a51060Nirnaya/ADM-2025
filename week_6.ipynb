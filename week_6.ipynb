{
  "nbformat": 4,
  "nbformat_minor": 0,
  "metadata": {
    "colab": {
      "provenance": [],
      "authorship_tag": "ABX9TyOFFyxibGL7SibilHUsnLlX",
      "include_colab_link": true
    },
    "kernelspec": {
      "name": "python3",
      "display_name": "Python 3"
    },
    "language_info": {
      "name": "python"
    }
  },
  "cells": [
    {
      "cell_type": "markdown",
      "metadata": {
        "id": "view-in-github",
        "colab_type": "text"
      },
      "source": [
        "<a href=\"https://colab.research.google.com/github/2303a51060Nirnaya/ADM-2025/blob/main/week_6.ipynb\" target=\"_parent\"><img src=\"https://colab.research.google.com/assets/colab-badge.svg\" alt=\"Open In Colab\"/></a>"
      ]
    },
    {
      "cell_type": "code",
      "source": [
        "import pandas as pd\n",
        "from sklearn.preprocessing import LabelEncoder, OneHotEncoder\n",
        "# Data encoding\n",
        "data = {'Category': ['Dog', 'Ball', 'Cat', 'Apple', 'Bat']}\n",
        "df = pd.DataFrame(data)\n",
        "# Label Encoder\n",
        "label_encoder = LabelEncoder()\n",
        "df['Label_Encoder'] = label_encoder.fit_transform(df['Category'])\n",
        "# One-hot Encoder\n",
        "one_hot_encoded = pd.get_dummies(df['Category'], prefix='Category')\n",
        "df = pd.concat([df, one_hot_encoded], axis=1)\n",
        "print(df)"
      ],
      "metadata": {
        "colab": {
          "base_uri": "https://localhost:8080/"
        },
        "id": "NlLxm_od_TZt",
        "outputId": "da450e89-11bd-4f8a-f00b-fbe02e72bee2"
      },
      "execution_count": 21,
      "outputs": [
        {
          "output_type": "stream",
          "name": "stdout",
          "text": [
            "  Category  Label_Encoder  Category_Apple  Category_Ball  Category_Bat  \\\n",
            "0      Dog              4           False          False         False   \n",
            "1     Ball              1           False           True         False   \n",
            "2      Cat              3           False          False         False   \n",
            "3    Apple              0            True          False         False   \n",
            "4      Bat              2           False          False          True   \n",
            "\n",
            "   Category_Cat  Category_Dog  \n",
            "0         False          True  \n",
            "1         False         False  \n",
            "2          True         False  \n",
            "3         False         False  \n",
            "4         False         False  \n"
          ]
        }
      ]
    },
    {
      "cell_type": "code",
      "source": [
        "from datetime import datetime\n",
        "import pandas as pd\n",
        "# creating derived columns\n",
        "data = {'Name': ['nirnaya', 'saiprasanna'], 'Date_of_Birth': ['2005-04-25', '2004-11-02']}\n",
        "df = pd.DataFrame(data)\n",
        "# Convert Date_of_Birth to datetime\n",
        "df['Date_of_Birth'] = pd.to_datetime(df['Date_of_Birth'])\n",
        "# Calculate Age\n",
        "current_year = datetime.now().year\n",
        "df['Age'] = current_year - df['Date_of_Birth'].dt.year\n",
        "print(df)\n",
        "# Convert Date_of_Birth to datetime\n",
        "df['Date_of_Birth'] = pd.to_datetime(df['Date_of_Birth'])\n",
        "# Calculate Age\n",
        "current_year = datetime.now().year\n",
        "df['Age'] = current_year - df['Date_of_Birth'].dt.year\n",
        "print(df)"
      ],
      "metadata": {
        "colab": {
          "base_uri": "https://localhost:8080/"
        },
        "id": "qkww6jW8AIkR",
        "outputId": "521c0db1-fe4c-4595-d72a-2ea97bc170bc"
      },
      "execution_count": 20,
      "outputs": [
        {
          "output_type": "stream",
          "name": "stdout",
          "text": [
            "          Name Date_of_Birth  Age\n",
            "0      nirnaya    2005-04-25   20\n",
            "1  saiprasanna    2004-11-02   21\n",
            "          Name Date_of_Birth  Age\n",
            "0      nirnaya    2005-04-25   20\n",
            "1  saiprasanna    2004-11-02   21\n"
          ]
        }
      ]
    },
    {
      "cell_type": "code",
      "source": [
        "import pandas as pd\n",
        "# Grouping and Aggregating Data\n",
        "data = {'Category': ['maths', 'pysics', 'Biology', 'telugu', 'english'],'Value': [10, 20, 10, 30, 40]}\n",
        "df = pd.DataFrame(data)\n",
        "# Group by and aggregate\n",
        "grouped = df.groupby('Category').agg({'Value': ['sum', 'mean']})\n",
        "print(\"Grouped Data:\\n\", grouped)\n",
        "# Pivot table\n",
        "pivot = df.pivot_table(index='Category', values='Value', aggfunc=['sum', 'mean'])\n",
        "print(\"\\nPivot Table:\\n\", pivot)"
      ],
      "metadata": {
        "colab": {
          "base_uri": "https://localhost:8080/"
        },
        "id": "Vo79oJKqCn3S",
        "outputId": "0b25632d-4a69-48c8-bb72-a91246e2ef23"
      },
      "execution_count": 27,
      "outputs": [
        {
          "output_type": "stream",
          "name": "stdout",
          "text": [
            "Grouped Data:\n",
            "          Value      \n",
            "           sum  mean\n",
            "Category            \n",
            "Biology     10  10.0\n",
            "english     40  40.0\n",
            "maths       10  10.0\n",
            "pysics      20  20.0\n",
            "telugu      30  30.0\n",
            "\n",
            "Pivot Table:\n",
            "            sum  mean\n",
            "         Value Value\n",
            "Category            \n",
            "Biology     10  10.0\n",
            "english     40  40.0\n",
            "maths       10  10.0\n",
            "pysics      20  20.0\n",
            "telugu      30  30.0\n"
          ]
        }
      ]
    }
  ]
}